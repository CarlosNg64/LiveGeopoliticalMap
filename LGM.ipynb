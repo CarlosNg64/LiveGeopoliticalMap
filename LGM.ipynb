{
 "cells": [
  {
   "cell_type": "code",
   "execution_count": 1,
   "metadata": {},
   "outputs": [],
   "source": [
    "import os\n",
    "from telethon.sync import TelegramClient\n",
    "from telethon.tl.functions.messages import GetHistoryRequest\n",
    "from telethon.tl.types import PeerChannel, MessageMediaPhoto, MessageMediaDocument\n",
    "import logging"
   ]
  },
  {
   "cell_type": "code",
   "execution_count": 2,
   "metadata": {},
   "outputs": [],
   "source": [
    "# Set up logging\n",
    "logging.basicConfig(level=logging.INFO, format='%(asctime)s - %(levelname)s - %(message)s')"
   ]
  },
  {
   "cell_type": "code",
   "execution_count": 3,
   "metadata": {},
   "outputs": [],
   "source": [
    "# Replace 'API_ID', 'API_HASH', 'PHONE_NUMBER', and 'CHAT_ID'\n",
    "api_id = '21950531'\n",
    "api_hash = '77ddc817506d749b2e4611e644984eaa'\n",
    "phone_number = '+17874663738'\n",
    "chat_id = 'nandation'  # This can be the username or ID of the chat"
   ]
  },
  {
   "cell_type": "code",
   "execution_count": 4,
   "metadata": {},
   "outputs": [],
   "source": [
    "# Specify the directories for saving text and media files\n",
    "text_file_path = r'c:\\Users\\oneto\\OneDrive\\Documents\\GitHub\\LiveGeopoliticalMap\\telegram_copied_chat.txt'\n",
    "media_dir = r'c:\\Users\\oneto\\OneDrive\\Documents\\GitHub\\LiveGeopoliticalMap\\media'"
   ]
  },
  {
   "cell_type": "code",
   "execution_count": 5,
   "metadata": {},
   "outputs": [],
   "source": [
    "# Create the media directory if it doesn't exist\n",
    "os.makedirs(media_dir, exist_ok=True)"
   ]
  },
  {
   "cell_type": "code",
   "execution_count": 6,
   "metadata": {},
   "outputs": [
    {
     "data": {
      "text/plain": [
       "<coroutine object TelegramBaseClient.connect at 0x0000020C05BBAB90>"
      ]
     },
     "execution_count": 6,
     "metadata": {},
     "output_type": "execute_result"
    }
   ],
   "source": [
    "# Create the client and connect\n",
    "client = TelegramClient('session_name', api_id, api_hash)\n",
    "client.connect()"
   ]
  },
  {
   "cell_type": "code",
   "execution_count": 7,
   "metadata": {},
   "outputs": [
    {
     "name": "stderr",
     "output_type": "stream",
     "text": [
      "C:\\Users\\oneto\\AppData\\Local\\Temp\\ipykernel_19140\\696990479.py:2: RuntimeWarning: coroutine 'UserMethods.is_user_authorized' was never awaited\n",
      "  if not client.is_user_authorized():\n",
      "RuntimeWarning: Enable tracemalloc to get the object allocation traceback\n"
     ]
    }
   ],
   "source": [
    "# If not already authorized, send the code\n",
    "if not client.is_user_authorized():\n",
    "    client.send_code_request(phone_number)\n",
    "    client.sign_in(phone_number, input('Enter the code: '))"
   ]
  },
  {
   "cell_type": "code",
   "execution_count": 8,
   "metadata": {},
   "outputs": [],
   "source": [
    "# Get the chat history\n",
    "async def get_chat_history():\n",
    "    chat = await client.get_entity(chat_id)\n",
    "    if isinstance(chat, PeerChannel):\n",
    "        peer = PeerChannel(chat.id)\n",
    "    else:\n",
    "        peer = chat\n",
    "\n",
    "    messages = []\n",
    "    offset_id = 0\n",
    "    limit = 100  # Number of messages to retrieve per request\n",
    "\n",
    "    while True:\n",
    "        history = await client(GetHistoryRequest(\n",
    "            peer=peer,\n",
    "            offset_id=offset_id,\n",
    "            offset_date=None,\n",
    "            add_offset=0,\n",
    "            limit=limit,\n",
    "            max_id=0,\n",
    "            min_id=0,\n",
    "            hash=0\n",
    "        ))\n",
    "\n",
    "        if not history.messages:\n",
    "            break\n",
    "\n",
    "        messages.extend(history.messages)\n",
    "        offset_id = history.messages[-1].id\n",
    "\n",
    "    return messages"
   ]
  },
  {
   "cell_type": "code",
   "execution_count": 9,
   "metadata": {},
   "outputs": [],
   "source": [
    "# Save the chat history to a text file and download media\n",
    "async def save_messages_to_file():\n",
    "    messages = await get_chat_history()\n",
    "    \n",
    "    with open(text_file_path, 'w', encoding='utf-8') as file:\n",
    "        for message in messages:\n",
    "            if message.message:\n",
    "                file.write(message.message + '\\n')\n",
    "                file.write('%%%%%%%%%%%%%%%\\n')  # Add delimiter between messages\n",
    "            \n",
    "            # Check if the message contains media\n",
    "            if message.media:\n",
    "                logging.info('Found media in message ID %s', message.id)\n",
    "                try:\n",
    "                    if isinstance(message.media, (MessageMediaPhoto, MessageMediaDocument)):\n",
    "                        # Download media (photo or document)\n",
    "                        media_path = await client.download_media(message, file=media_dir)\n",
    "                        logging.info('Media downloaded to %s', media_path)\n",
    "                        file.write(f'Media: {media_path}\\n')\n",
    "                        file.write('%%%%%%%%%%%%%%%\\n')\n",
    "                    else:\n",
    "                        logging.info('Media type %s is not supported for download.', type(message.media))\n",
    "                except Exception as e:\n",
    "                    logging.error('Failed to download media: %s', e)"
   ]
  },
  {
   "cell_type": "code",
   "execution_count": 10,
   "metadata": {},
   "outputs": [
    {
     "ename": "RuntimeError",
     "evalue": "You must use \"async with\" if the event loop is running (i.e. you are inside an \"async def\")",
     "output_type": "error",
     "traceback": [
      "\u001b[1;31m---------------------------------------------------------------------------\u001b[0m",
      "\u001b[1;31mRuntimeError\u001b[0m                              Traceback (most recent call last)",
      "Cell \u001b[1;32mIn[10], line 2\u001b[0m\n\u001b[0;32m      1\u001b[0m \u001b[38;5;66;03m# Run the async functions\u001b[39;00m\n\u001b[1;32m----> 2\u001b[0m \u001b[38;5;28;43;01mwith\u001b[39;49;00m\u001b[43m \u001b[49m\u001b[43mclient\u001b[49m\u001b[43m:\u001b[49m\n\u001b[0;32m      3\u001b[0m \u001b[43m    \u001b[49m\u001b[43mclient\u001b[49m\u001b[38;5;241;43m.\u001b[39;49m\u001b[43mloop\u001b[49m\u001b[38;5;241;43m.\u001b[39;49m\u001b[43mrun_until_complete\u001b[49m\u001b[43m(\u001b[49m\u001b[43msave_messages_to_file\u001b[49m\u001b[43m(\u001b[49m\u001b[43m)\u001b[49m\u001b[43m)\u001b[49m\n\u001b[0;32m      5\u001b[0m logging\u001b[38;5;241m.\u001b[39minfo(\u001b[38;5;124m'\u001b[39m\u001b[38;5;124mMessages and media saved to \u001b[39m\u001b[38;5;132;01m%s\u001b[39;00m\u001b[38;5;124m'\u001b[39m, text_file_path)\n",
      "File \u001b[1;32mc:\\Users\\oneto\\AppData\\Local\\Programs\\Python\\Python312\\Lib\\site-packages\\telethon\\helpers.py:214\u001b[0m, in \u001b[0;36m_sync_enter\u001b[1;34m(self)\u001b[0m\n\u001b[0;32m    211\u001b[0m     loop \u001b[38;5;241m=\u001b[39m \u001b[38;5;28mself\u001b[39m\u001b[38;5;241m.\u001b[39m_client\u001b[38;5;241m.\u001b[39mloop\n\u001b[0;32m    213\u001b[0m \u001b[38;5;28;01mif\u001b[39;00m loop\u001b[38;5;241m.\u001b[39mis_running():\n\u001b[1;32m--> 214\u001b[0m     \u001b[38;5;28;01mraise\u001b[39;00m \u001b[38;5;167;01mRuntimeError\u001b[39;00m(\n\u001b[0;32m    215\u001b[0m         \u001b[38;5;124m'\u001b[39m\u001b[38;5;124mYou must use \u001b[39m\u001b[38;5;124m\"\u001b[39m\u001b[38;5;124masync with\u001b[39m\u001b[38;5;124m\"\u001b[39m\u001b[38;5;124m if the event loop \u001b[39m\u001b[38;5;124m'\u001b[39m\n\u001b[0;32m    216\u001b[0m         \u001b[38;5;124m'\u001b[39m\u001b[38;5;124mis running (i.e. you are inside an \u001b[39m\u001b[38;5;124m\"\u001b[39m\u001b[38;5;124masync def\u001b[39m\u001b[38;5;124m\"\u001b[39m\u001b[38;5;124m)\u001b[39m\u001b[38;5;124m'\u001b[39m\n\u001b[0;32m    217\u001b[0m     )\n\u001b[0;32m    219\u001b[0m \u001b[38;5;28;01mreturn\u001b[39;00m loop\u001b[38;5;241m.\u001b[39mrun_until_complete(\u001b[38;5;28mself\u001b[39m\u001b[38;5;241m.\u001b[39m\u001b[38;5;21m__aenter__\u001b[39m())\n",
      "\u001b[1;31mRuntimeError\u001b[0m: You must use \"async with\" if the event loop is running (i.e. you are inside an \"async def\")"
     ]
    }
   ],
   "source": [
    "# Run the async functions\n",
    "with client:\n",
    "    client.loop.run_until_complete(save_messages_to_file())\n",
    "\n",
    "logging.info('Messages and media saved to %s', text_file_path)"
   ]
  }
 ],
 "metadata": {
  "kernelspec": {
   "display_name": "Python 3",
   "language": "python",
   "name": "python3"
  },
  "language_info": {
   "codemirror_mode": {
    "name": "ipython",
    "version": 3
   },
   "file_extension": ".py",
   "mimetype": "text/x-python",
   "name": "python",
   "nbconvert_exporter": "python",
   "pygments_lexer": "ipython3",
   "version": "3.12.3"
  }
 },
 "nbformat": 4,
 "nbformat_minor": 2
}
