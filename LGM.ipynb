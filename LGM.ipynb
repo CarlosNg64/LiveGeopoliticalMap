{
 "cells": [
  {
   "cell_type": "code",
   "execution_count": null,
   "metadata": {},
   "outputs": [],
   "source": [
    "import os\n",
    "from telethon.sync import TelegramClient\n",
    "from telethon.tl.functions.messages import GetHistoryRequest\n",
    "from telethon.tl.types import PeerChannel, MessageMediaPhoto, MessageMediaDocument\n",
    "import logging"
   ]
  },
  {
   "cell_type": "code",
   "execution_count": null,
   "metadata": {},
   "outputs": [],
   "source": [
    "# Set up logging\n",
    "logging.basicConfig(level=logging.INFO, format='%(asctime)s - %(levelname)s - %(message)s')"
   ]
  },
  {
   "cell_type": "code",
   "execution_count": null,
   "metadata": {},
   "outputs": [],
   "source": [
    "# Replace 'API_ID', 'API_HASH', 'PHONE_NUMBER', and 'CHAT_ID'\n",
    "api_id = '21950531'\n",
    "api_hash = '77ddc817506d749b2e4611e644984eaa'\n",
    "phone_number = '+17874663738'\n",
    "chat_id = 'juliancan'  # This can be the username or ID of the chat"
   ]
  },
  {
   "cell_type": "code",
   "execution_count": null,
   "metadata": {},
   "outputs": [],
   "source": [
    "# Specify the directories for saving text and media files\n",
    "text_file_path = r'C:\\Users\\oneto\\OneDrive\\Documents\\telegram chats\\telegram_chat.txt'\n",
    "media_dir = r'C:\\Users\\oneto\\OneDrive\\Documents\\telegram chats\\media'"
   ]
  },
  {
   "cell_type": "code",
   "execution_count": null,
   "metadata": {},
   "outputs": [],
   "source": [
    "# Create the media directory if it doesn't exist\n",
    "os.makedirs(media_dir, exist_ok=True)"
   ]
  },
  {
   "cell_type": "code",
   "execution_count": null,
   "metadata": {},
   "outputs": [],
   "source": [
    "# Create the client and connect\n",
    "client = TelegramClient('session_name', api_id, api_hash)\n",
    "client.connect()"
   ]
  },
  {
   "cell_type": "code",
   "execution_count": null,
   "metadata": {},
   "outputs": [],
   "source": [
    "# If not already authorized, send the code\n",
    "if not client.is_user_authorized():\n",
    "    client.send_code_request(phone_number)\n",
    "    client.sign_in(phone_number, input('Enter the code: '))"
   ]
  },
  {
   "cell_type": "code",
   "execution_count": null,
   "metadata": {},
   "outputs": [],
   "source": [
    "# Get the chat history\n",
    "async def get_chat_history():\n",
    "    chat = await client.get_entity(chat_id)\n",
    "    if isinstance(chat, PeerChannel):\n",
    "        peer = PeerChannel(chat.id)\n",
    "    else:\n",
    "        peer = chat\n",
    "\n",
    "    messages = []\n",
    "    offset_id = 0\n",
    "    limit = 100  # Number of messages to retrieve per request\n",
    "\n",
    "    while True:\n",
    "        history = await client(GetHistoryRequest(\n",
    "            peer=peer,\n",
    "            offset_id=offset_id,\n",
    "            offset_date=None,\n",
    "            add_offset=0,\n",
    "            limit=limit,\n",
    "            max_id=0,\n",
    "            min_id=0,\n",
    "            hash=0\n",
    "        ))\n",
    "\n",
    "        if not history.messages:\n",
    "            break\n",
    "\n",
    "        messages.extend(history.messages)\n",
    "        offset_id = history.messages[-1].id\n",
    "\n",
    "    return messages"
   ]
  },
  {
   "cell_type": "code",
   "execution_count": null,
   "metadata": {},
   "outputs": [],
   "source": [
    "# Save the chat history to a text file and download media\n",
    "async def save_messages_to_file():\n",
    "    messages = await get_chat_history()\n",
    "    \n",
    "    with open(text_file_path, 'w', encoding='utf-8') as file:\n",
    "        for message in messages:\n",
    "            if message.message:\n",
    "                file.write(message.message + '\\n')\n",
    "                file.write('%%%%%%%%%%%%%%%\\n')  # Add delimiter between messages\n",
    "            \n",
    "            # Check if the message contains media\n",
    "            if message.media:\n",
    "                logging.info('Found media in message ID %s', message.id)\n",
    "                try:\n",
    "                    if isinstance(message.media, (MessageMediaPhoto, MessageMediaDocument)):\n",
    "                        # Download media (photo or document)\n",
    "                        media_path = await client.download_media(message, file=media_dir)\n",
    "                        logging.info('Media downloaded to %s', media_path)\n",
    "                        file.write(f'Media: {media_path}\\n')\n",
    "                        file.write('%%%%%%%%%%%%%%%\\n')\n",
    "                    else:\n",
    "                        logging.info('Media type %s is not supported for download.', type(message.media))\n",
    "                except Exception as e:\n",
    "                    logging.error('Failed to download media: %s', e)"
   ]
  },
  {
   "cell_type": "code",
   "execution_count": null,
   "metadata": {},
   "outputs": [],
   "source": [
    "# Run the async functions\n",
    "with client:\n",
    "    client.loop.run_until_complete(save_messages_to_file())\n",
    "\n",
    "logging.info('Messages and media saved to %s', text_file_path)"
   ]
  }
 ],
 "metadata": {
  "language_info": {
   "name": "python"
  }
 },
 "nbformat": 4,
 "nbformat_minor": 2
}
